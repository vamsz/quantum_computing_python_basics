{
  "cells": [
    {
      "cell_type": "markdown",
      "source": [
        "<h2> Basics of Python: Loops </h2>\n",
        "\n",
        "We review using loops in Python here. \n",
        "\n",
        "Please run each cell and check the results."
      ],
      "metadata": {}
    },
    {
      "cell_type": "markdown",
      "source": [
        "<h3> For-loop </h3>"
      ],
      "metadata": {}
    },
    {
      "cell_type": "code",
      "source": [
        "# let's print all numbers between 0 and 9\n",
        "for i in range(10): print(i)\n",
        "# range(n) represents the list of all numbers from 0 to n-1\n",
        "# i is the variable to take the values in the range(n) iteratively: 0, 1, ..., 9 in our example"
      ],
      "outputs": [
        {
          "output_type": "stream",
          "name": "stdout",
          "text": [
            "0\n",
            "1\n",
            "2\n",
            "3\n",
            "4\n",
            "5\n",
            "6\n",
            "7\n",
            "8\n",
            "9\n"
          ]
        }
      ],
      "execution_count": 28,
      "metadata": {}
    },
    {
      "cell_type": "code",
      "source": [
        "# let's write the same code in two lines\n",
        "for i in range(10): # do not forget to use colon\n",
        "    print(i)\n",
        "    # the second line is indented\n",
        "    # this means that the command in the second line will be executed inside the for-loop\n",
        "    # any other code executed inside the for-loop must be intented in the same way\n",
        "    #my_code_inside_for-loop_2 will come here\n",
        "    #my_code_inside_for-loop_3 will come here\n",
        "    #my_code_inside_for-loop_4 will come here\n",
        "# now I am out of the scope of for-loop\n",
        "#my_code_outside_for-loop_1 will come here\n",
        "#my_code_outside_for-loop_2 will come here"
      ],
      "outputs": [
        {
          "output_type": "stream",
          "name": "stdout",
          "text": [
            "0\n",
            "1\n",
            "2\n",
            "3\n",
            "4\n",
            "5\n",
            "6\n",
            "7\n",
            "8\n",
            "9\n"
          ]
        }
      ],
      "execution_count": 2,
      "metadata": {}
    },
    {
      "cell_type": "code",
      "source": [
        "# let's calculate the summation 1+2+...+10 by using a for-loop\n",
        "\n",
        "# we use variable total for the total summation\n",
        "total = 0 \n",
        "for i in range(11): # do not forget to use colon\n",
        "    total = total + i # total is increased by i in each iteration\n",
        "    # alternatively, the same assignment can shortly be written as total += i similarly to languages C, C++, Java, etc.\n",
        "# now I am out of the scope of for-loop\n",
        "# let's print the latest value of total\n",
        "print(total)"
      ],
      "outputs": [
        {
          "output_type": "stream",
          "name": "stdout",
          "text": [
            "55\n"
          ]
        }
      ],
      "execution_count": 3,
      "metadata": {}
    },
    {
      "cell_type": "code",
      "source": [
        "# let's calculate the summation 10+12+14+...+44\n",
        "# we create a list having all numbers in the summation\n",
        "# for this purpose, this time we will use three parameters in range\n",
        "total = 0\n",
        "for j in range(10,45,2): # the range is defined between 10 and 44, and the value of j will be increased by 2 after each iteration\n",
        "    total += j # let's use the shortened version of total = total + j\n",
        "print(total)"
      ],
      "outputs": [
        {
          "output_type": "stream",
          "name": "stdout",
          "text": [
            "486\n"
          ]
        }
      ],
      "execution_count": 4,
      "metadata": {}
    },
    {
      "cell_type": "code",
      "source": [
        "# let's calculate the summation 1+2+4+8+16+...+256\n",
        "# remark that 256 = 2*2*...*2 (8 times)\n",
        "total = 0\n",
        "current_number = 1 # this value will be multiplied by 2 after each iteration\n",
        "for k in range(9):\n",
        "    total = total + current_number # current_number is 1 at the beginning, and its value will be doubled after each iteration\n",
        "    current_number = 2 * current_number # let's double the value of the current_number for the next iteration\n",
        "    # short version of the same assignment: current_number *= 2 as in the languages C, C++, Java, etc.\n",
        "# now I am out of the scope of for-loop\n",
        "# let's print the latest value of total\n",
        "print(total)"
      ],
      "outputs": [
        {
          "output_type": "stream",
          "name": "stdout",
          "text": [
            "511\n"
          ]
        }
      ],
      "execution_count": 5,
      "metadata": {}
    },
    {
      "cell_type": "code",
      "source": [
        "# instead of a range, we can directly use a list\n",
        "for i in [1,10,100,1000,10000]:\n",
        "    print(i)"
      ],
      "outputs": [
        {
          "output_type": "stream",
          "name": "stdout",
          "text": [
            "1\n",
            "10\n",
            "100\n",
            "1000\n",
            "10000\n"
          ]
        }
      ],
      "execution_count": 6,
      "metadata": {}
    },
    {
      "cell_type": "code",
      "source": [
        "# instead of [...], we can also use (...)\n",
        "# but this time it is a tuple, not a list (keep in your mind that the values in a tuple cannot be changed)\n",
        "for i in (1,10,100,1000,10000):\n",
        "    print(i)"
      ],
      "outputs": [
        {
          "output_type": "stream",
          "name": "stdout",
          "text": [
            "1\n",
            "10\n",
            "100\n",
            "1000\n",
            "10000\n"
          ]
        }
      ],
      "execution_count": 7,
      "metadata": {}
    },
    {
      "cell_type": "code",
      "source": [
        "# let's create a range between 10 and 91 that contains the multiples of 7\n",
        "for j in range(14,92,7): \n",
        "    # 14 is the first multiple of 7 greater than or equal to 10\n",
        "    # 91 should be in the range, and so we write 92\n",
        "    print(j)"
      ],
      "outputs": [
        {
          "output_type": "stream",
          "name": "stdout",
          "text": [
            "14\n",
            "21\n",
            "28\n",
            "35\n",
            "42\n",
            "49\n",
            "56\n",
            "63\n",
            "70\n",
            "77\n",
            "84\n",
            "91\n"
          ]
        }
      ],
      "execution_count": 8,
      "metadata": {}
    },
    {
      "cell_type": "code",
      "source": [
        "# let's create a range between 11 and 22\n",
        "for i in range(11,23):\n",
        "    print(i)"
      ],
      "outputs": [
        {
          "output_type": "stream",
          "name": "stdout",
          "text": [
            "11\n",
            "12\n",
            "13\n",
            "14\n",
            "15\n",
            "16\n",
            "17\n",
            "18\n",
            "19\n",
            "20\n",
            "21\n",
            "22\n"
          ]
        }
      ],
      "execution_count": 9,
      "metadata": {}
    },
    {
      "cell_type": "code",
      "source": [
        "# we can also use variables in range\n",
        "n = 5\n",
        "for j in range(n,2*n): \n",
        "    print(j) # we will print all numbers in {n,n+1,n+2,...,2n-1}"
      ],
      "outputs": [
        {
          "output_type": "stream",
          "name": "stdout",
          "text": [
            "5\n",
            "6\n",
            "7\n",
            "8\n",
            "9\n"
          ]
        }
      ],
      "execution_count": 10,
      "metadata": {}
    },
    {
      "cell_type": "code",
      "source": [
        "# we can use a list of strings\n",
        "for name in (\"Asja\",\"Balvis\",\"Fyodor\"):\n",
        "    print(\"Hello\",name,\":-)\")"
      ],
      "outputs": [
        {
          "output_type": "stream",
          "name": "stdout",
          "text": [
            "Hello Asja :-)\n",
            "Hello Balvis :-)\n",
            "Hello Fyodor :-)\n"
          ]
        }
      ],
      "execution_count": 11,
      "metadata": {}
    },
    {
      "cell_type": "code",
      "source": [
        "# any range can be converted to a list\n",
        "L1 = list(range(10))\n",
        "print(L1)\n",
        "\n",
        "L2 = list(range(55,200,11))\n",
        "print(L2)"
      ],
      "outputs": [
        {
          "output_type": "stream",
          "name": "stdout",
          "text": [
            "[0, 1, 2, 3, 4, 5, 6, 7, 8, 9]\n",
            "[55, 66, 77, 88, 99, 110, 121, 132, 143, 154, 165, 176, 187, 198]\n"
          ]
        }
      ],
      "execution_count": 12,
      "metadata": {}
    },
    {
      "cell_type": "markdown",
      "source": [
        "<h3> Task 1 </h3>\n",
        "\n",
        "Calculate the value of summation $ 3+6+9+\\cdots+51 $, and then print the result.\n",
        "\n",
        "The result should be 459."
      ],
      "metadata": {}
    },
    {
      "cell_type": "code",
      "source": [
        "#\n",
        "# your solution is here\n",
        "#\n",
        "total1 = 0\n",
        "total2 = 0\n",
        "\n",
        "for i in range(3,52,3):\n",
        "    total1 = total1 + i\n",
        "    total2 += i # shorter form\n",
        "\n",
        "print(\"The summation is\",total1)\n",
        "print(\"The summation is\",total2)"
      ],
      "outputs": [
        {
          "output_type": "stream",
          "name": "stdout",
          "text": [
            "The summation is 459\n",
            "The summation is 459\n"
          ]
        }
      ],
      "execution_count": 13,
      "metadata": {}
    },
    {
      "cell_type": "markdown",
      "source": [
        "<h3> Task 2 </h3>\n",
        "\n",
        "$ 3^k $ means $ 3 \\cdot 3 \\cdot \\cdots \\cdot 3 $ ($ k $ times) for $ k \\geq 2 $. \n",
        "\n",
        "Moreover, $ 3^0  $ is 1 and $ 3^1 = 3 $.\n",
        "\n",
        "Calculate the value of summation $ 3^0 + 3^1 + 3^2 + \\cdots + 3^8 $, and then print the result.\n",
        "\n",
        "The result should be 9841."
      ],
      "metadata": {}
    },
    {
      "cell_type": "code",
      "source": [
        "#\n",
        "# your solution is here\n",
        "#\n",
        "T = 0 \n",
        "current_number = 1\n",
        "for i in range(9):\n",
        "    T = T + current_number\n",
        "    print(\"3 to\",i,\"is\",current_number)\n",
        "    current_number = 3 * current_number\n",
        "    \n",
        "print(\"summation is\",T)"
      ],
      "outputs": [
        {
          "output_type": "stream",
          "name": "stdout",
          "text": [
            "3 to 0 is 1\n",
            "3 to 1 is 3\n",
            "3 to 2 is 9\n",
            "3 to 3 is 27\n",
            "3 to 4 is 81\n",
            "3 to 5 is 243\n",
            "3 to 6 is 729\n",
            "3 to 7 is 2187\n",
            "3 to 8 is 6561\n",
            "summation is 9841\n"
          ]
        }
      ],
      "execution_count": 14,
      "metadata": {}
    },
    {
      "cell_type": "code",
      "source": [
        "# Python has also exponent operator: **\n",
        "# we can also directly use it\n",
        "\n",
        "T = 0\n",
        "\n",
        "for i in range(9):\n",
        "    print(\"3 to\",i,\"is\",3**i)\n",
        "    T = T + 3 ** i\n",
        "    \n",
        "print(\"summation is\",T)"
      ],
      "outputs": [
        {
          "output_type": "stream",
          "name": "stdout",
          "text": [
            "3 to 0 is 1\n",
            "3 to 1 is 3\n",
            "3 to 2 is 9\n",
            "3 to 3 is 27\n",
            "3 to 4 is 81\n",
            "3 to 5 is 243\n",
            "3 to 6 is 729\n",
            "3 to 7 is 2187\n",
            "3 to 8 is 6561\n",
            "summation is 9841\n"
          ]
        }
      ],
      "execution_count": 15,
      "metadata": {}
    },
    {
      "cell_type": "markdown",
      "source": [
        "<h3> While-loop </h3>"
      ],
      "metadata": {}
    },
    {
      "cell_type": "code",
      "source": [
        "# let's calculate the summation 1+2+4+8+...+256 by using a while-loop\n",
        "total = 0\n",
        "i = 1\n",
        "\n",
        "#while condition(s):\n",
        "#    your_code1\n",
        "#    your_code2\n",
        "#    your_code3\n",
        "while i < 257: # this loop iterates as long as i is less than 257\n",
        "    total = total + i\n",
        "    i = i * 2 # i is doubled in each iteration, and so soon it will be greater than 256\n",
        "    \n",
        "print(total)\n",
        "# remember that we calculated this summation as 511 before"
      ],
      "outputs": [
        {
          "output_type": "stream",
          "name": "stdout",
          "text": [
            "511\n"
          ]
        }
      ],
      "execution_count": 16,
      "metadata": {}
    },
    {
      "cell_type": "code",
      "source": [
        "L = [0,1,2,3,4,5,11] # this is a list containing 7 integer values\n",
        "i = 0\n",
        "while i in L: # this loop will be iterated as long as i is in L\n",
        "    print(i)\n",
        "    i = i + 1 # the value of i iteratively increased, and so soon it will hit a value not in the list L\n",
        "    \n",
        "# the loop is terminated after i is set to 6, because 6 is not in L"
      ],
      "outputs": [
        {
          "output_type": "stream",
          "name": "stdout",
          "text": [
            "0\n",
            "1\n",
            "2\n",
            "3\n",
            "4\n",
            "5\n"
          ]
        }
      ],
      "execution_count": 17,
      "metadata": {}
    },
    {
      "cell_type": "code",
      "source": [
        "# let's use negation in the condition of while-loop\n",
        "L = [10] # this list has a single element\n",
        "i = 0\n",
        "while i not in L: # this loop will be iterated as long as i is not equal to 10\n",
        "    print(i)\n",
        "    i = i+1 # the value of i will hit 10 after ten iterations\n",
        "    "
      ],
      "outputs": [
        {
          "output_type": "stream",
          "name": "stdout",
          "text": [
            "0\n",
            "1\n",
            "2\n",
            "3\n",
            "4\n",
            "5\n",
            "6\n",
            "7\n",
            "8\n",
            "9\n"
          ]
        }
      ],
      "execution_count": 18,
      "metadata": {}
    },
    {
      "cell_type": "code",
      "source": [
        "# let's rewrite the same loop by using a direct inequality\n",
        "i = 0\n",
        "while i != 10: # \"!=\" is used for \"not equal to\" operator \n",
        "    print(i) \n",
        "    i=i+1"
      ],
      "outputs": [
        {
          "output_type": "stream",
          "name": "stdout",
          "text": [
            "0\n",
            "1\n",
            "2\n",
            "3\n",
            "4\n",
            "5\n",
            "6\n",
            "7\n",
            "8\n",
            "9\n"
          ]
        }
      ],
      "execution_count": 19,
      "metadata": {}
    },
    {
      "cell_type": "code",
      "source": [
        "# let's rewrite the same loop by using negation of equality\n",
        "i = 0\n",
        "while not (i == 10): # \"==\" is used for \"equal to\" operator \n",
        "    print(i) \n",
        "    i=i+1\n",
        "    \n",
        "# while-loop seems having more fun :-)\n",
        "# but we should be more careful when writing the condition(s)!"
      ],
      "outputs": [
        {
          "output_type": "stream",
          "name": "stdout",
          "text": [
            "0\n",
            "1\n",
            "2\n",
            "3\n",
            "4\n",
            "5\n",
            "6\n",
            "7\n",
            "8\n",
            "9\n"
          ]
        }
      ],
      "execution_count": 20,
      "metadata": {}
    },
    {
      "cell_type": "markdown",
      "source": [
        "Consider the summation $ S(n) =  1+ 2+ 3 + \\cdots + n $ for some natural number $ n $.\n",
        "\n",
        "Let's find the minimum value of $ n $ such that $ S(n) \\geq 1000 $.\n",
        "\n",
        "While-loop works very well for this task.\n",
        "<ul>\n",
        "    <li>We can iteratively increase $ n $ and update the value of $ S(n) $.</li>\n",
        "    <li>The loop iterates as long as $S(n)$ is less than 1000.</li>\n",
        "    <li>Once it hits 1000 or a greater number, the loop will be terminated.</li>\n",
        "</ul>"
      ],
      "metadata": {}
    },
    {
      "cell_type": "code",
      "source": [
        "# summation and n is zero at the beginning\n",
        "S = 0\n",
        "n = 0\n",
        "while S < 1000: # this loop will stop after S exceeds 999 (S = 1000 or S > 1000)\n",
        "    n = n +1\n",
        "    S = S + n\n",
        "# let's print n and S\n",
        "print(\"n =\",n,\" S =\",S)"
      ],
      "outputs": [
        {
          "output_type": "stream",
          "name": "stdout",
          "text": [
            "n = 45  S = 1035\n"
          ]
        }
      ],
      "execution_count": 21,
      "metadata": {}
    },
    {
      "cell_type": "markdown",
      "source": [
        "<h3> Task 3 </h3>\n",
        "\n",
        "Consider the summation $ T(n) = 1 + \\dfrac{1}{2} + \\dfrac{1}{4}+ \\dfrac{1}{8} + \\cdots + \\dfrac{1}{2^n} $ for some natural number $ n $. \n",
        "\n",
        "Remark that $ T(0) = \\dfrac{1}{2^0} = \\dfrac{1}{1} = 1 $.\n",
        "\n",
        "This summation can be arbitrarily close to $2$. \n",
        "\n",
        "Let's find the minimum value of $ n $ such that the closeness of $ T(n) $ to $2$ is less than $ 0.01 $.\n",
        "\n",
        "In other words, let's find the minimum value of $n$ such that $ T(n) > 1.99 $.\n",
        "\n",
        "The operator for \"less than or equal to\" in Python is \"$ < = $\"."
      ],
      "metadata": {}
    },
    {
      "cell_type": "code",
      "source": [
        "# three examples for the operator \"less than or equal to\"\n",
        "#print (4 <= 5)\n",
        "#print (5 <= 5)\n",
        "#print (6 <= 5)\n",
        "# you may comment out the above three lines and see the results by running this cell\n",
        "\n",
        "#\n",
        "# your solution is here\n",
        "#\n",
        "T = 0\n",
        "n = 2  # this value iteratively will be first halved and then added to the summation T\n",
        "how_many_terms = 0\n",
        "\n",
        "while T<=1.99:\n",
        "    n = n/2 # half the value of n\n",
        "    print(\"n = \",n)\n",
        "    T = T + n # update the value of T\n",
        "    how_many_terms = how_many_terms + 1\n",
        "    \n",
        "print(\"T = \",T)\n",
        "print(\"how many terms in the summation:\",how_many_terms)"
      ],
      "outputs": [
        {
          "output_type": "stream",
          "name": "stdout",
          "text": [
            "n =  1.0\n",
            "n =  0.5\n",
            "n =  0.25\n",
            "n =  0.125\n",
            "n =  0.0625\n",
            "n =  0.03125\n",
            "n =  0.015625\n",
            "n =  0.0078125\n",
            "T =  1.9921875\n",
            "how many terms in the summation: 8\n"
          ]
        }
      ],
      "execution_count": 22,
      "metadata": {}
    },
    {
      "cell_type": "code",
      "source": [
        "# our result says that there should be 8 terms in our summation\n",
        "# let's calculate the summations of the first seven and eight terms, and verify our results\n",
        "\n",
        "T7 = 0 \n",
        "n = 2 # this value iteratively will be first halved and then added to the summation\n",
        "\n",
        "for i in range(7):\n",
        "    n = n/2\n",
        "    print(\"n =\",n)\n",
        "    T7 = T7 + n\n",
        "    \n",
        "print(\"the summation of the first seven terms is\",T7)"
      ],
      "outputs": [
        {
          "output_type": "stream",
          "name": "stdout",
          "text": [
            "n = 1.0\n",
            "n = 0.5\n",
            "n = 0.25\n",
            "n = 0.125\n",
            "n = 0.0625\n",
            "n = 0.03125\n",
            "n = 0.015625\n",
            "the summation of the first seven terms is 1.984375\n"
          ]
        }
      ],
      "execution_count": 23,
      "metadata": {}
    },
    {
      "cell_type": "code",
      "source": [
        "T8 = 0 \n",
        "n = 2 # this value iteratively will be first halved and then added to the summation\n",
        "\n",
        "for i in range(8):\n",
        "    n = n/2\n",
        "    print(\"n =\",n)\n",
        "    T8 = T8 + n\n",
        "    \n",
        "print(\"the summation of the first eight terms is\",T8)\n",
        "\n",
        "print(\"(the summation of the first seven terms is\",T7,\")\")"
      ],
      "outputs": [
        {
          "output_type": "stream",
          "name": "stdout",
          "text": [
            "n = 1.0\n",
            "n = 0.5\n",
            "n = 0.25\n",
            "n = 0.125\n",
            "n = 0.0625\n",
            "n = 0.03125\n",
            "n = 0.015625\n",
            "n = 0.0078125\n",
            "the summation of the first eight terms is 1.9921875\n",
            "(the summation of the first seven terms is 1.984375 )\n"
          ]
        }
      ],
      "execution_count": 24,
      "metadata": {}
    },
    {
      "cell_type": "markdown",
      "source": [
        "<h3> Task 4 </h3>\n",
        "\n",
        "Randomly pick number(s) between 0 and 9 until hitting 3, and then print the number of attempt(s).\n",
        "\n",
        "We can use <i>randrange</i> function from <i>random</i> module for randomly picking a number in a given range."
      ],
      "metadata": {}
    },
    {
      "cell_type": "code",
      "source": [
        "# this is the code for including function randrange into our program \n",
        "from random import randrange\n",
        "# randrange(n) picks a number from the list [0,1,2,...,n-1] randomly\n",
        "#r = randrange(100)\n",
        "#print(r)\n",
        "\n",
        "#\n",
        "# your solution is here\n",
        "#\n",
        "from random import randrange\n",
        "\n",
        "r = 0\n",
        "attempt = 0\n",
        "\n",
        "while r != 3: # the loop iterates as long as r is not equal to 3\n",
        "    r = randrange(10) # randomly pick a number\n",
        "    attempt = attempt + 1 # increase the number of attempts by 1\n",
        "    print (attempt,\"->\",r) # print the number of attempt and the randomly picked number\n",
        "    \n",
        "print(\"total number of attempt(s) is\",attempt)"
      ],
      "outputs": [
        {
          "output_type": "stream",
          "name": "stdout",
          "text": [
            "1 -> 9\n",
            "2 -> 8\n",
            "3 -> 3\n",
            "total number of attempt(s) is 3\n"
          ]
        }
      ],
      "execution_count": 25,
      "metadata": {}
    },
    {
      "cell_type": "markdown",
      "source": [
        "<h3> Task 5 </h3>\n",
        "\n",
        "This is a challenging task. \n",
        "\n",
        "It is designed for the usage of double nested loops: one loop is inside of the other loop.\n",
        "\n",
        "In the fourth task above, the expected number of attempt(s) to hit number 3 is 10. \n",
        "\n",
        "Let's do a series of experiments by using your solution for Task 4.\n",
        "\n",
        "Experiment 1: Execute your code 20 times, and then calculate the average attempts.\n",
        "\n",
        "Experiment 2: Execute your code 200 times, and then calculate the average attempts.\n",
        "\n",
        "Experiment 3: Execute your code 2000 times, and then calculate the average attempts.\n",
        "\n",
        "Experiment 4: Execute your code 20000 times, and then calculate the average attempts.\n",
        "\n",
        "Experiment 5: Execute your code 200000 times, and then calculate the average attempts.\n",
        "\n",
        "<i>Your experimental average should get closer to 10 when the number of executions is increased.</i>\n",
        "\n",
        "Remark that all five experiments can be automatically done by using triple loops."
      ],
      "metadata": {}
    },
    {
      "cell_type": "code",
      "source": [
        "# here is a schematic example for double nested loops\n",
        "#for i in range(10):\n",
        "#    your_code1\n",
        "#    your_code2\n",
        "#    while j != 7:\n",
        "#        your_code_3\n",
        "#        your_code_4\n",
        "\n",
        "#\n",
        "# your solution is here\n",
        "#\n",
        "# be aware of single and double indentions\n",
        "\n",
        "number_of_execution = 2000 # change this with 200, 2000, 20000, 200000 and reexecute this cell\n",
        "total_attempts = 0  \n",
        "\n",
        "from random import randrange\n",
        "\n",
        "for i in range(number_of_execution): # the outer loop iterates number_of_execution times\n",
        "    r = 0 \n",
        "    attempt = 0\n",
        "    while r != 3: # the while-loop iterates as long as r is not equal to 3\n",
        "        r = randrange(10) # randomly pick a number\n",
        "        attempt = attempt + 1 # increase the number of attempts by 1\n",
        "    # I am out of scope of while-loop\n",
        "    total_attempts = total_attempts + attempt # update the total number of attempts\n",
        "    \n",
        "# I am out of scope of for-loop\n",
        "print(number_of_execution,\"->\",total_attempts/number_of_execution)"
      ],
      "outputs": [
        {
          "output_type": "stream",
          "name": "stdout",
          "text": [
            "2000 -> 9.833\n"
          ]
        }
      ],
      "execution_count": 26,
      "metadata": {}
    },
    {
      "cell_type": "code",
      "source": [
        "# let's use triple nested loops\n",
        "for number_of_execution in [20,200,2000,20000,200000]: # we will use the same code by indenting all lines by one more level\n",
        "    total_attempts = 0 \n",
        "    for i in range(number_of_execution): # the middle loop iterates number_of_execution times\n",
        "        r = 0 \n",
        "        attempt = 0\n",
        "        while r != 3: # the while-loop iterates as long as r is not equal to 3\n",
        "            r = randrange(10) # randomly pick a number\n",
        "            attempt = attempt + 1 # increase the number of attempts by 1\n",
        "        # I am out of scope of while-loop\n",
        "        total_attempts = total_attempts + attempt # update the total number of attempts\n",
        "    # I am out of scope of for-loop\n",
        "    print(number_of_execution,\"->\",total_attempts/number_of_execution)\n",
        "\n",
        "# you can include 2 million to the list, but you should WAIT for a while to see the result\n",
        "# can your computer compete with exponential growth?\n",
        "# if you think \"yes\", please try 20 million, 200 million, and so on"
      ],
      "outputs": [
        {
          "output_type": "stream",
          "name": "stdout",
          "text": [
            "20 -> 9.4\n",
            "200 -> 10.0\n",
            "2000 -> 10.117\n",
            "20000 -> 10.039\n",
            "200000 -> 10.00457\n"
          ]
        }
      ],
      "execution_count": 27,
      "metadata": {}
    }
  ],
  "metadata": {
    "kernelspec": {
      "display_name": "Python 3",
      "language": "python",
      "name": "python3"
    },
    "language_info": {
      "codemirror_mode": {
        "name": "ipython",
        "version": 3
      },
      "file_extension": ".py",
      "mimetype": "text/x-python",
      "name": "python",
      "nbconvert_exporter": "python",
      "pygments_lexer": "ipython3",
      "version": "3.8.3"
    },
    "nteract": {
      "version": "0.26.0"
    }
  },
  "nbformat": 4,
  "nbformat_minor": 4
}