{
 "cells": [
  {
   "cell_type": "markdown",
   "metadata": {},
   "source": [
    "\"\"\"\n",
    "Jupyter Notebook Tutorial\n",
    "=========================\n",
    "\n",
    "This notebook introduces the basic usage of Jupyter Notebook cells and Python programming.\n",
    "\n",
    "Types of Cells:\n",
    "1. **Code Cells**: Used to write and execute Python code.\n",
    "2. **Markdown Cells**: Used to write text descriptions, notes, formulas, or include graphics/images using Markdown, HTML, or LaTeX.\n",
    "\n",
    "During this tutorial, you are expected to write only Python code.\n",
    "\"\"\"\n",
    "\n",
    "# First Code Cell: Introduction to Python in Jupyter Notebook\n",
    "\n",
    "# Printing a simple message"
   ]
  },
  {
   "cell_type": "code",
   "execution_count": 39,
   "metadata": {},
   "outputs": [
    {
     "name": "stdout",
     "output_type": "stream",
     "text": [
      "Overwriting file1.py\n"
     ]
    }
   ],
   "source": [
    "%%writefile file1.py\n",
    "print (\"hello world\")"
   ]
  },
  {
   "cell_type": "markdown",
   "metadata": {},
   "source": [
    "# Using a loop to print a pattern"
   ]
  },
  {
   "cell_type": "code",
   "execution_count": 40,
   "metadata": {},
   "outputs": [
    {
     "name": "stdout",
     "output_type": "stream",
     "text": [
      "Overwriting file2.py\n"
     ]
    }
   ],
   "source": [
    "%%writefile file2.py\n",
    "str =\"&\"\n",
    "for i in range(5):\n",
    "    print(str)\n",
    "    str=str+\"&\""
   ]
  },
  {
   "cell_type": "code",
   "execution_count": 41,
   "metadata": {},
   "outputs": [
    {
     "name": "stdout",
     "output_type": "stream",
     "text": [
      "hello world\n",
      "&\n",
      "&&\n",
      "&&&\n",
      "&&&&\n",
      "&&&&&\n"
     ]
    }
   ],
   "source": [
    "%run file1.py\n",
    "%run file2.py"
   ]
  },
  {
   "cell_type": "markdown",
   "metadata": {},
   "source": [
    "# New Code Cell: Working with Variables and Loops\n",
    "\n",
    "# Calculating the sum of first N natural numbers"
   ]
  },
  {
   "cell_type": "code",
   "execution_count": 42,
   "metadata": {},
   "outputs": [
    {
     "name": "stdout",
     "output_type": "stream",
     "text": [
      "the sum of squares of first 10 natural numers is : 55\n"
     ]
    }
   ],
   "source": [
    "N = 10\n",
    "sum_n = sum(range(1,N+1))\n",
    "print(f\"the sum of squares of first {N} natural numers is : {sum_n}\")"
   ]
  },
  {
   "cell_type": "code",
   "execution_count": 43,
   "metadata": {},
   "outputs": [
    {
     "name": "stdout",
     "output_type": "stream",
     "text": [
      "The sum of squares of first 10 natural numbers is: 385\n"
     ]
    }
   ],
   "source": [
    "# Solution for Exercise 1: Sum of squares of the first N natural numbers\n",
    "sum_squares = sum(i**2 for i in range(1, N+1))\n",
    "print(f\"The sum of squares of first {N} natural numbers is: {sum_squares}\")"
   ]
  }
 ],
 "metadata": {
  "kernelspec": {
   "display_name": "vamsi",
   "language": "python",
   "name": "python3"
  },
  "language_info": {
   "codemirror_mode": {
    "name": "ipython",
    "version": 3
   },
   "file_extension": ".py",
   "mimetype": "text/x-python",
   "name": "python",
   "nbconvert_exporter": "python",
   "pygments_lexer": "ipython3",
   "version": "3.12.5"
  }
 },
 "nbformat": 4,
 "nbformat_minor": 2
}
