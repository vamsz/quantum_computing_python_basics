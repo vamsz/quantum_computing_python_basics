{
  "cells": [
    {
      "cell_type": "markdown",
      "source": [
        "<h2> Basics of Python: Lists </h2>\n",
        "\n",
        "We review using Lists in Python here. \n",
        "\n",
        "Please run each cell and check the results.\n",
        "\n",
        "A list (or array) is a collection of objects (variables) separated by comma. \n",
        "\n",
        "The order is important, and we can access each element in the list with its index starting from 0."
      ],
      "metadata": {}
    },
    {
      "cell_type": "code",
      "source": [
        "# here is a list holding all even numbers between 10 and 20\n",
        "L = [10, 12, 14, 16, 18, 20]\n",
        "\n",
        "# let's print the list\n",
        "print(L)"
      ],
      "outputs": [
        {
          "output_type": "stream",
          "name": "stdout",
          "text": [
            "[10, 12, 14, 16, 18, 20]\n"
          ]
        }
      ],
      "execution_count": 1,
      "metadata": {}
    },
    {
      "cell_type": "code",
      "source": [
        "# let's print each element by using its index but in reverse order\n",
        "print(L[5],L[4],L[3],L[2],L[1],L[0])"
      ],
      "outputs": [
        {
          "output_type": "stream",
          "name": "stdout",
          "text": [
            "20 18 16 14 12 10\n"
          ]
        }
      ],
      "execution_count": 2,
      "metadata": {}
    },
    {
      "cell_type": "code",
      "source": [
        "# let's print the length (size) of list\n",
        "print(len(L))"
      ],
      "outputs": [
        {
          "output_type": "stream",
          "name": "stdout",
          "text": [
            "6\n"
          ]
        }
      ],
      "execution_count": 3,
      "metadata": {}
    },
    {
      "cell_type": "code",
      "source": [
        "# let's print each element and its index in the list\n",
        "# we use a for-loop, and the number of iteration is determined by the length of the list\n",
        "# everthing is automatical :-)\n",
        "\n",
        "L = [10, 12, 14, 16, 18, 20]\n",
        "\n",
        "for i in range(len(L)):\n",
        "    print(L[i],\"is the element in our list with the index\",i)"
      ],
      "outputs": [
        {
          "output_type": "stream",
          "name": "stdout",
          "text": [
            "10 is the element in our list with the index 0\n",
            "12 is the element in our list with the index 1\n",
            "14 is the element in our list with the index 2\n",
            "16 is the element in our list with the index 3\n",
            "18 is the element in our list with the index 4\n",
            "20 is the element in our list with the index 5\n"
          ]
        }
      ],
      "execution_count": 4,
      "metadata": {}
    },
    {
      "cell_type": "code",
      "source": [
        "# let's replace each number in the above list with its double value\n",
        "# L = [10, 12, 14, 16, 18, 20]\n",
        "\n",
        "# let's print the list before doubling operation\n",
        "print(\"the list before doubling operation is\",L)\n",
        "\n",
        "for i in range(len(L)):\n",
        "    current_element=L[i] # get the value of the i-th element\n",
        "    L[i] = 2 * current_element # update the value of the i-th element\n",
        "    # let's shorten the code as\n",
        "    #L[i] = 2 * L[i]\n",
        "    # or\n",
        "    #L[i] *= 2\n",
        "    \n",
        "# let's print the list after doubling operation\n",
        "print(\"the list after doubling operation is\",L)\n",
        "\n",
        "# after each execution of this cell, the latest values will be doubled\n",
        "#     so the values in the list will be exponentially increased "
      ],
      "outputs": [
        {
          "output_type": "stream",
          "name": "stdout",
          "text": [
            "the list before doubling operation is [10, 12, 14, 16, 18, 20]\n",
            "the list after doubling operation is [20, 24, 28, 32, 36, 40]\n"
          ]
        }
      ],
      "execution_count": 5,
      "metadata": {}
    },
    {
      "cell_type": "code",
      "source": [
        "# let's define two lists\n",
        "L1 = [1,2,3,4]\n",
        "L2 = [-5,-6,-7,-8]\n",
        "\n",
        "# two lists can be concatenated \n",
        "# the result is a new list\n",
        "\n",
        "print(\"the concatenation of L1 and L2 is\",L1+L2)\n",
        "\n",
        "# the order of terms is important\n",
        "print(\"the concatenation of L2 and L1 is\",L2+L1) # this is a different list than L1+L2"
      ],
      "outputs": [
        {
          "output_type": "stream",
          "name": "stdout",
          "text": [
            "the concatenation of L1 and L2 is [1, 2, 3, 4, -5, -6, -7, -8]\n",
            "the concatenation of L2 and L1 is [-5, -6, -7, -8, 1, 2, 3, 4]\n"
          ]
        }
      ],
      "execution_count": 6,
      "metadata": {}
    },
    {
      "cell_type": "code",
      "source": [
        "# we can add a new element to a list, which increases its length/size by 1\n",
        "\n",
        "L = [10, 12, 14, 16, 18, 20]\n",
        "\n",
        "print(L,\"the current length is\",len(L))\n",
        "\n",
        "# we add two values by showing two different methods\n",
        "\n",
        "# L.append(value) directly adds the value as a new element to the list\n",
        "\n",
        "L.append(-4)\n",
        "\n",
        "# we can also use concatenation operator +\n",
        "\n",
        "L = L + [-8] # here [-8] is a list having a single element\n",
        "\n",
        "print(L,\"the new length is\",len(L))"
      ],
      "outputs": [
        {
          "output_type": "stream",
          "name": "stdout",
          "text": [
            "[10, 12, 14, 16, 18, 20] the current length is 6\n",
            "[10, 12, 14, 16, 18, 20, -4, -8] the new length is 8\n"
          ]
        }
      ],
      "execution_count": 7,
      "metadata": {}
    },
    {
      "cell_type": "code",
      "source": [
        "# a list can be multiplied with an integer\n",
        "L = [1,2]\n",
        "\n",
        "# we can consider the multiplication of L by an integer as a repeated summation (concatenation) of L by itself\n",
        "# L * 1 is the list itself\n",
        "# L * 2 is L + L (the concatenation of L with itself)\n",
        "# L * 3 is L + L + L (the concatenation of L with itself twice)\n",
        "# L * m is L + ... + L (the concatenation of L with itself m-1 times)\n",
        "# L * 0 is the empty list\n",
        "\n",
        "# L * i is the same as i * L\n",
        "\n",
        "# let's print the different cases\n",
        "for i in range(6):\n",
        "    print(i,\"* L is\",i*L)\n",
        "\n",
        "# this operation can be useful when initializing a list with the same value(s)"
      ],
      "outputs": [
        {
          "output_type": "stream",
          "name": "stdout",
          "text": [
            "0 * L is []\n",
            "1 * L is [1, 2]\n",
            "2 * L is [1, 2, 1, 2]\n",
            "3 * L is [1, 2, 1, 2, 1, 2]\n",
            "4 * L is [1, 2, 1, 2, 1, 2, 1, 2]\n",
            "5 * L is [1, 2, 1, 2, 1, 2, 1, 2, 1, 2]\n"
          ]
        }
      ],
      "execution_count": 8,
      "metadata": {}
    },
    {
      "cell_type": "code",
      "source": [
        "# let's create a list of prime numbers less than 100\n",
        "\n",
        "# here is a function that determines whether a given number is prime or not\n",
        "def prime(number):\n",
        "    if number < 2: return False\n",
        "    if number == 2: return True \n",
        "    if number % 2 == 0: return False\n",
        "    for i in range(3,number,2):\n",
        "        if number % i == 0: return False \n",
        "    return True\n",
        "# end of a function\n",
        "\n",
        "# let's start with an empty list\n",
        "L=[] \n",
        "# what can the length of this list be?\n",
        "print(\"my initial length is\",len(L))\n",
        "\n",
        "for i in range(2,100): \n",
        "    if prime(i):\n",
        "        L.append(i)\n",
        "        # alternative methods:\n",
        "        #L = L + [i]\n",
        "        #L += [i]\n",
        "\n",
        "# print the final list\n",
        "print(L)\n",
        "print(\"my final length is\",len(L))"
      ],
      "outputs": [
        {
          "output_type": "stream",
          "name": "stdout",
          "text": [
            "my initial length is 0\n",
            "[2, 3, 5, 7, 11, 13, 17, 19, 23, 29, 31, 37, 41, 43, 47, 53, 59, 61, 67, 71, 73, 79, 83, 89, 97]\n",
            "my final length is 25\n"
          ]
        }
      ],
      "execution_count": 9,
      "metadata": {}
    },
    {
      "cell_type": "markdown",
      "source": [
        "For a given integer $n \\geq 0$, $ S(0) = 0 $, $ S(1)=1 $, and $ S(n) = 1 + 2 + \\cdots + n $.\n",
        "\n",
        "We define list $ L(n) $ such that the element with index $n$ holds $ S(n) $.\n",
        "\n",
        "In other words, the elements of $ L(n) $ are $ [ S(0)~~S(1)~~S(2)~~\\cdots~~S(n) ] $.\n",
        "\n",
        "Let's build the list $ L(20) $."
      ],
      "metadata": {}
    },
    {
      "cell_type": "code",
      "source": [
        "# let's define the list with S(0) \n",
        "L = [0]\n",
        "\n",
        "# let's iteratively define n and S\n",
        "\n",
        "# initial values\n",
        "n = 0\n",
        "S = 0\n",
        "\n",
        "# the number of iterations\n",
        "N = 20 \n",
        "\n",
        "while n <= N: # we iterate all values from 1 to 20\n",
        "    n = n + 1\n",
        "    S = S + n\n",
        "    L.append(S)\n",
        "    \n",
        "# print the final list\n",
        "print(L)"
      ],
      "outputs": [
        {
          "output_type": "stream",
          "name": "stdout",
          "text": [
            "[0, 1, 3, 6, 10, 15, 21, 28, 36, 45, 55, 66, 78, 91, 105, 120, 136, 153, 171, 190, 210, 231]\n"
          ]
        }
      ],
      "execution_count": 10,
      "metadata": {}
    },
    {
      "cell_type": "markdown",
      "source": [
        "<h3> Task 1 </h3>\n",
        "\n",
        "Fibonacci sequence starts with $ 1 $ and $ 1 $. Then, each next element is equal to the summation of the previous two elements:\n",
        "$$\n",
        "    1, 1, 2 , 3 , 5, 8, 13, 21, 34, 55, \\ldots \n",
        "$$\n",
        "\n",
        "Find the first 30 elements of the Fibonacci sequence, store them in a list, and then print the list. \n",
        "\n",
        "You can verify the first 10 elements of your result with the above list."
      ],
      "metadata": {}
    },
    {
      "cell_type": "code",
      "source": [
        "#\n",
        "# your solution is here\n",
        "# the first and second elements are 1 and 1\n",
        "F = [1,1]\n",
        "\n",
        "for i in range(2,30):\n",
        "    F.append(F[i-1] + F[i-2])\n",
        "\n",
        "# print the final list\n",
        "print(F)"
      ],
      "outputs": [
        {
          "output_type": "stream",
          "name": "stdout",
          "text": [
            "[1, 1, 2, 3, 5, 8, 13, 21, 34, 55, 89, 144, 233, 377, 610, 987, 1597, 2584, 4181, 6765, 10946, 17711, 28657, 46368, 75025, 121393, 196418, 317811, 514229, 832040]\n"
          ]
        }
      ],
      "execution_count": 11,
      "metadata": {}
    },
    {
      "cell_type": "markdown",
      "source": [
        "<h3> Lists of different objects </h3>\n",
        "\n",
        "A list can have any type of values."
      ],
      "metadata": {}
    },
    {
      "cell_type": "code",
      "source": [
        "# the following list stores certain information about Asja\n",
        "#   name, surname, age, profession, height, weight, partner(s) if any, kid(s) if any, the creation date of list\n",
        "ASJA = ['Asja','Sarkane',34,'musician',180,65.5,[],['Eleni','Fyodor'],\"October 24, 2018\"]\n",
        "\n",
        "print(ASJA)\n",
        "\n",
        "# Remark that an element of a list can be another list as well."
      ],
      "outputs": [
        {
          "output_type": "stream",
          "name": "stdout",
          "text": [
            "['Asja', 'Sarkane', 34, 'musician', 180, 65.5, [], ['Eleni', 'Fyodor'], 'October 24, 2018']\n"
          ]
        }
      ],
      "execution_count": 12,
      "metadata": {}
    },
    {
      "cell_type": "markdown",
      "source": [
        "<h3> Task 2 </h3>\n",
        "\n",
        "Define a list $ N $ with 11 elements such that $ N[i] $ is another list with four elements such that $ [i, i^2, i^3, i^2+i^3] $.\n",
        "\n",
        "The index $ i $ should be between $ 0 $ and $ 10 $."
      ],
      "metadata": {}
    },
    {
      "cell_type": "code",
      "source": [
        "#\n",
        "# your solution is here\n",
        "#\n",
        "# define an empty list\n",
        "N = []\n",
        "\n",
        "for i in range(11):\n",
        "    N.append([ i , i*i , i*i*i , i*i + i*i*i ]) # a list having four elements is added to the list N\n",
        "    # Alternatively:\n",
        "    #N.append([i , i**2 , i**3 , i**2 + i**3]) # ** is the exponent operator\n",
        "    #N = N + [ [i , i*i , i*i*i , i*i + i*i*i] ] # Why using double brackets?\n",
        "    #N = N + [ [i , i**2 , i**3 , i**2 + i**3] ] # Why using double brackets?\n",
        "    # In the last two alternative solutions, you may try with a single bracket, \n",
        "    #     and then see why double brackets are needed for the exact answer.\n",
        "\n",
        "# print the final list\n",
        "print(N)"
      ],
      "outputs": [
        {
          "output_type": "stream",
          "name": "stdout",
          "text": [
            "[[0, 0, 0, 0], [1, 1, 1, 2], [2, 4, 8, 12], [3, 9, 27, 36], [4, 16, 64, 80], [5, 25, 125, 150], [6, 36, 216, 252], [7, 49, 343, 392], [8, 64, 512, 576], [9, 81, 729, 810], [10, 100, 1000, 1100]]\n"
          ]
        }
      ],
      "execution_count": 13,
      "metadata": {}
    },
    {
      "cell_type": "code",
      "source": [
        "# let's print the list N element by element\n",
        "for i in range(len(N)):\n",
        "    print(N[i])"
      ],
      "outputs": [
        {
          "output_type": "stream",
          "name": "stdout",
          "text": [
            "[0, 0, 0, 0]\n",
            "[1, 1, 1, 2]\n",
            "[2, 4, 8, 12]\n",
            "[3, 9, 27, 36]\n",
            "[4, 16, 64, 80]\n",
            "[5, 25, 125, 150]\n",
            "[6, 36, 216, 252]\n",
            "[7, 49, 343, 392]\n",
            "[8, 64, 512, 576]\n",
            "[9, 81, 729, 810]\n",
            "[10, 100, 1000, 1100]\n"
          ]
        }
      ],
      "execution_count": 14,
      "metadata": {}
    },
    {
      "cell_type": "code",
      "source": [
        "# let's print the list N element by element by using an alternative method\n",
        "for el in N: # el will iteratively takes the values of elements in N \n",
        "    print(el)"
      ],
      "outputs": [
        {
          "output_type": "stream",
          "name": "stdout",
          "text": [
            "[0, 0, 0, 0]\n",
            "[1, 1, 1, 2]\n",
            "[2, 4, 8, 12]\n",
            "[3, 9, 27, 36]\n",
            "[4, 16, 64, 80]\n",
            "[5, 25, 125, 150]\n",
            "[6, 36, 216, 252]\n",
            "[7, 49, 343, 392]\n",
            "[8, 64, 512, 576]\n",
            "[9, 81, 729, 810]\n",
            "[10, 100, 1000, 1100]\n"
          ]
        }
      ],
      "execution_count": 15,
      "metadata": {}
    },
    {
      "cell_type": "markdown",
      "source": [
        "<h3> Dictionaries </h3>\n",
        "\n",
        "The outcomes of a quantum program (circuit) will be stored in a dictionary.\n",
        "\n",
        "Therefore, we very shortly mention about the dictionary data type. \n",
        "\n",
        "A dictionary is a set of paired elements.\n",
        "\n",
        "Each pair is composed by a key and its value, and any value can be accessed by its key."
      ],
      "metadata": {}
    },
    {
      "cell_type": "code",
      "source": [
        "# let's define a dictionary pairing a person with her/his age\n",
        "\n",
        "ages = {\n",
        "    'Asja':32,\n",
        "    'Balvis':28,\n",
        "    'Fyodor':43\n",
        "}\n",
        "\n",
        "# let print all keys\n",
        "for person in ages:\n",
        "    print(person)\n",
        "    \n",
        "# let's print the values\n",
        "for person in ages:\n",
        "    print(ages[person])"
      ],
      "outputs": [
        {
          "output_type": "stream",
          "name": "stdout",
          "text": [
            "Asja\n",
            "Balvis\n",
            "Fyodor\n",
            "32\n",
            "28\n",
            "43\n"
          ]
        }
      ],
      "execution_count": 16,
      "metadata": {}
    },
    {
      "cell_type": "code",
      "source": [],
      "outputs": [],
      "execution_count": null,
      "metadata": {}
    }
  ],
  "metadata": {
    "kernelspec": {
      "display_name": "Python 3",
      "language": "python",
      "name": "python3"
    },
    "language_info": {
      "codemirror_mode": {
        "name": "ipython",
        "version": 3
      },
      "file_extension": ".py",
      "mimetype": "text/x-python",
      "name": "python",
      "nbconvert_exporter": "python",
      "pygments_lexer": "ipython3",
      "version": "3.8.3"
    },
    "nteract": {
      "version": "0.26.0"
    }
  },
  "nbformat": 4,
  "nbformat_minor": 4
}