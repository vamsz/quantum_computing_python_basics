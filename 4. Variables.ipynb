{
  "cells": [
    {
      "cell_type": "markdown",
      "source": [
        "<h2> Basics of Python: Variables </h2>\n",
        "\n",
        "We review using variables in Python here. \n",
        "\n",
        "Please run each cell and check the results.\n",
        "\n",
        "<b> Indention of codes <u>matters</u> in Python!</b> \n",
        "\n",
        "In this notebook, each line of code should start from the left without any indention. Otherwise, you will get a syntax error.\n",
        "\n",
        "Comments can be indented.\n",
        "\n",
        "The codes belonging to a conditional or loop statement or a function/procedure are indented. We will see them later."
      ],
      "metadata": {}
    },
    {
      "cell_type": "code",
      "source": [
        "# This is a comment\n",
        "# A comment is used for explanations/descriptions/etc.\n",
        "# Comments do not affect the programs"
      ],
      "outputs": [],
      "execution_count": null,
      "metadata": {}
    },
    {
      "cell_type": "code",
      "source": [
        "# let's define an integer variable named a\n",
        "a = 5\n",
        "\n",
        "# let's print its value\n",
        "print(a)"
      ],
      "outputs": [],
      "execution_count": null,
      "metadata": {}
    },
    {
      "cell_type": "code",
      "source": [
        "# let's define three integer variables named a, b, and c\n",
        "a = 2\n",
        "b = 4\n",
        "c = a + b # summation of a and b\n",
        "\n",
        "# let's print their values together \n",
        "print(a,b,c)\n",
        "# a single space will automatically appear in between"
      ],
      "outputs": [],
      "execution_count": null,
      "metadata": {}
    },
    {
      "cell_type": "code",
      "source": [
        "# let's print their values in reverse order\n",
        "print(c,b,a)"
      ],
      "outputs": [],
      "execution_count": null,
      "metadata": {}
    },
    {
      "cell_type": "code",
      "source": [
        "# let's print their summation and multiplication\n",
        "print(a+b+c,a*b*c)"
      ],
      "outputs": [],
      "execution_count": null,
      "metadata": {}
    },
    {
      "cell_type": "code",
      "source": [
        "# let's define variables with string/text values\n",
        "\n",
        "hw = \"hello world\" # we can use double quotes\n",
        "hqw = 'hello quantum world' # we can use single quotes\n",
        "\n",
        "# let's print them\n",
        "print(hw)\n",
        "print(hqw)"
      ],
      "outputs": [],
      "execution_count": null,
      "metadata": {}
    },
    {
      "cell_type": "code",
      "source": [
        "# let's print them together by inserting another string in between\n",
        "print(hw,\"and\",hqw)"
      ],
      "outputs": [],
      "execution_count": null,
      "metadata": {}
    },
    {
      "cell_type": "code",
      "source": [
        "# let's concatenate a few strings\n",
        "d = \"Hello \" + 'World' + \" but \" + 'Quantum ' + \"World\" \n",
        "\n",
        "# let's print the result\n",
        "print(d)"
      ],
      "outputs": [],
      "execution_count": null,
      "metadata": {}
    },
    {
      "cell_type": "code",
      "source": [
        "# let's print numeric and string values together\n",
        "print(\"a =\",a,\", b =\",b,\", a+b =\",a+b)"
      ],
      "outputs": [],
      "execution_count": null,
      "metadata": {}
    },
    {
      "cell_type": "code",
      "source": [
        "# let's subtract two numbers\n",
        "d = a-b\n",
        "print(a,b,d)"
      ],
      "outputs": [],
      "execution_count": null,
      "metadata": {}
    },
    {
      "cell_type": "code",
      "source": [
        "# let's divide two numbers\n",
        "d = a/b\n",
        "print(a,b,d)"
      ],
      "outputs": [],
      "execution_count": null,
      "metadata": {}
    },
    {
      "cell_type": "code",
      "source": [
        "# let's divide integers over integers\n",
        "# the result is always an integer (with possible integer remainder)\n",
        "d = 33 // 6\n",
        "print(d)"
      ],
      "outputs": [],
      "execution_count": null,
      "metadata": {}
    },
    {
      "cell_type": "code",
      "source": [
        "# reminder/mod operator\n",
        "r = 33 % 6 \n",
        "# 33 mod 6 = 3\n",
        "# or when 33 is divided by 6 over integers, the reminder is 3\n",
        "# 33 = 5 * 6 + 3\n",
        "\n",
        "# let's print the result\n",
        "print(r) "
      ],
      "outputs": [],
      "execution_count": null,
      "metadata": {}
    },
    {
      "cell_type": "code",
      "source": [
        "# Booleen variables\n",
        "t = True\n",
        "f = False\n",
        "\n",
        "# let's print their values\n",
        "print(t,f)"
      ],
      "outputs": [],
      "execution_count": null,
      "metadata": {}
    },
    {
      "cell_type": "code",
      "source": [
        "# print their negations\n",
        "print(not t) \n",
        "print(\"the negation of\",t,\"is\",not t)\n",
        "\n",
        "print(not f)\n",
        "print(\"the negation of\",f,\"is\",not f)"
      ],
      "outputs": [],
      "execution_count": null,
      "metadata": {}
    },
    {
      "cell_type": "code",
      "source": [
        "# define a float variable\n",
        "\n",
        "d = -3.4444\n",
        "\n",
        "# let's print its value and its square\n",
        "print(d, d * d)"
      ],
      "outputs": [],
      "execution_count": null,
      "metadata": {}
    },
    {
      "cell_type": "markdown",
      "source": [
        "Let's use parentheses in our expressions.\n",
        "\n",
        "$(23 * 13)-(11 * 15) $\n",
        "\n",
        "Here $*$ represents the multiplication operator"
      ],
      "metadata": {}
    },
    {
      "cell_type": "code",
      "source": [
        "e = (23*13) - (11 * 15)\n",
        "print(e)"
      ],
      "outputs": [],
      "execution_count": null,
      "metadata": {}
    },
    {
      "cell_type": "markdown",
      "source": [
        "Let's consider a more complex expression.\n",
        "\n",
        "$  -3 * (123- 34 * 11 ) + 4 * (5+ (23 * 15) ) $"
      ],
      "metadata": {}
    },
    {
      "cell_type": "code",
      "source": [
        "# we can use more than one variable\n",
        "\n",
        "# left is the variable for the left part of the expression\n",
        "# we start with the multiplication inside the parentheses\n",
        "left = 34*11\n",
        "# we continue with the substruction inside the parentheses\n",
        "#     we reuse the variable named left\n",
        "left = 123 - left\n",
        "# we reuse left again for the multiplication with -3\n",
        "left = -3 * left\n",
        "\n",
        "# right is the variable for the right part of the expression\n",
        "# we use the same idea here\n",
        "right = 23 * 15\n",
        "right = 5 + right\n",
        "right = 4 * right\n",
        "\n",
        "# at the end, we use left for the result\n",
        "left = left + right\n",
        "\n",
        "# let's print the result\n",
        "print(left)"
      ],
      "outputs": [],
      "execution_count": null,
      "metadata": {}
    },
    {
      "cell_type": "markdown",
      "source": [
        "<h3> Task 1 </h3>\n",
        "\n",
        "Define three variables $n1$, $n2$, and $n3$, and set their values to $3$, $-4$, and $6$.\n",
        "\n",
        "Define a new variable $r1$, and set its value to $ (2 \\cdot n1 + 3 \\cdot n2) \\cdot 2 - 5 \\cdot n3 $, where $\\cdot$ represents the multiplication operator. \n",
        "\n",
        "<i>The multiplication operator in python (and in many other programming languages) is *.</i>\n",
        "\n",
        "Then, print the value of $r1$. \n",
        "\n",
        "As you may verify it by yourself,  the result should be $-42$."
      ],
      "metadata": {}
    },
    {
      "cell_type": "code",
      "source": [
        "#\n",
        "# your solution is here\n",
        "#\n",
        "n1,n2,n3 = 3,-4,6\n",
        "\n",
        "print(n1,n2,n3)\n",
        "\n",
        "r1 = (2 * n1 + 3 * n2)*2 - 5 *n3\n",
        "print(r1)"
      ],
      "outputs": [
        {
          "output_type": "stream",
          "name": "stdout",
          "text": [
            "3 -4 6\n",
            "-42\n"
          ]
        }
      ],
      "execution_count": 1,
      "metadata": {}
    },
    {
      "cell_type": "markdown",
      "source": [
        "<h3> Task 2 </h3>\n",
        "\n",
        "By using the same variables (you may not need to define them again), please print the following value\n",
        "$$\n",
        "    \\dfrac{(n1-n2)\\cdot(n2-n3)}{(n3-n1)\\cdot(n3+1)} \n",
        "$$\n",
        "\n",
        "You should see $ -3.3333333333333335 $ as the outcome."
      ],
      "metadata": {}
    },
    {
      "cell_type": "code",
      "source": [
        "#\n",
        "# your solution is here\n",
        "#\n",
        "n1,n2,n3 = 3,-4,6\n",
        "\n",
        "up = (n1-n2) * (n2-n3)\n",
        "down = (n3-n1) * (n3+1)\n",
        "\n",
        "result = up/down\n",
        "print (result)"
      ],
      "outputs": [
        {
          "output_type": "stream",
          "name": "stdout",
          "text": [
            "-3.3333333333333335\n"
          ]
        }
      ],
      "execution_count": 2,
      "metadata": {}
    },
    {
      "cell_type": "markdown",
      "source": [
        "<h3> Task 3 </h3>\n",
        "\n",
        "Define variables N and S, and set their values to your name and surname. \n",
        "\n",
        "Then, print the values of N and S with a prefix phrase \"hello from the quantum world to\"."
      ],
      "metadata": {}
    },
    {
      "cell_type": "code",
      "source": [
        "#\n",
        "# your solution is here\n",
        "#\n",
        "N = \"Arya\"\n",
        "S = \"Shah\"\n",
        "\n",
        "print(\"hello from the quantum world to\",N,S)"
      ],
      "outputs": [
        {
          "output_type": "stream",
          "name": "stdout",
          "text": [
            "hello from the quantum world to Arya Shah\n"
          ]
        }
      ],
      "execution_count": 4,
      "metadata": {}
    },
    {
      "cell_type": "code",
      "source": [],
      "outputs": [],
      "execution_count": null,
      "metadata": {}
    }
  ],
  "metadata": {
    "kernelspec": {
      "display_name": "Python 3",
      "language": "python",
      "name": "python3"
    },
    "language_info": {
      "codemirror_mode": {
        "name": "ipython",
        "version": 3
      },
      "file_extension": ".py",
      "mimetype": "text/x-python",
      "name": "python",
      "nbconvert_exporter": "python",
      "pygments_lexer": "ipython3",
      "version": "3.8.3"
    },
    "nteract": {
      "version": "0.26.0"
    }
  },
  "nbformat": 4,
  "nbformat_minor": 4
}