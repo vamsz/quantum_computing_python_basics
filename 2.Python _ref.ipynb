{
 "cells": [
  {
   "cell_type": "markdown",
   "metadata": {},
   "source": [
    "\"\"\"\n",
    "Python Quick Reference - Extended with Examples and Explanations\n",
    "\n",
    "This Jupyter Notebook serves as a quick reference for Python programming,\n",
    "including variables, operators, loops, conditionals, functions, and more.\n",
    "Each section contains examples and explanations to facilitate learning.\n",
    "\"\"\""
   ]
  },
  {
   "cell_type": "markdown",
   "metadata": {},
   "source": [
    "Variables"
   ]
  },
  {
   "cell_type": "code",
   "execution_count": 125,
   "metadata": {},
   "outputs": [
    {
     "name": "stdout",
     "output_type": "stream",
     "text": [
      "hackzz\n",
      "quantazzhackzz\n",
      "True\n"
     ]
    }
   ],
   "source": [
    "number = 5\n",
    "real = -3.34\n",
    "\n",
    "name = \"hackzz\"\n",
    "print (name)\n",
    "surname = \"quantazz\"\n",
    "print(surname+name)\n",
    "bool = True\n",
    "print (bool)"
   ]
  },
  {
   "cell_type": "markdown",
   "metadata": {},
   "source": [
    "Arithmetic operators\n",
    "Basic operators"
   ]
  },
  {
   "cell_type": "code",
   "execution_count": 126,
   "metadata": {},
   "outputs": [
    {
     "name": "stdout",
     "output_type": "stream",
     "text": [
      "Complex Number: (2+3j)\n",
      "a + b = 18\n",
      "a - b = 8\n",
      "a * b = 65\n",
      "a / b = 2.6\n"
     ]
    }
   ],
   "source": [
    "# Additional Example\n",
    "complex_number = 2 + 3j  # Complex number\n",
    "print(\"Complex Number:\", complex_number)\n",
    "\n",
    "# Arithmetic Operators\n",
    "# Basic operations\n",
    "a = 13\n",
    "b = 5\n",
    "print(\"a + b =\", a + b)  # Addition\n",
    "print(\"a - b =\", a - b)  # Subtraction\n",
    "print(\"a * b =\", a * b)  # Multiplication\n",
    "print(\"a / b =\", a / b)  # Division\n"
   ]
  },
  {
   "cell_type": "code",
   "execution_count": 127,
   "metadata": {},
   "outputs": [
    {
     "name": "stdout",
     "output_type": "stream",
     "text": [
      "power opertation a power b : 371293\n",
      " module operation a % b : 3\n"
     ]
    }
   ],
   "source": [
    "print(\"power opertation a power b :\", a** b )\n",
    "print(\" module operation a % b :\", a % b)"
   ]
  },
  {
   "cell_type": "code",
   "execution_count": 128,
   "metadata": {},
   "outputs": [
    {
     "name": "stdout",
     "output_type": "stream",
     "text": [
      "list elements: [10, 8, 2, 4, 5, 7]\n"
     ]
    }
   ],
   "source": [
    "# Objects - Lists\n",
    "mylist = [10, 8, 2, 4, 5, 7]\n",
    "print(\"list elements:\", mylist)"
   ]
  },
  {
   "cell_type": "code",
   "execution_count": 129,
   "metadata": {},
   "outputs": [
    {
     "name": "stdout",
     "output_type": "stream",
     "text": [
      "list elements: [10, 8, 2]\n",
      "list elements: [5, 7]\n"
     ]
    }
   ],
   "source": [
    "# Additional Example: List Slicing\n",
    "print(\"list elements:\", mylist[:3])\n",
    "print(\"list elements:\", mylist[-2:])"
   ]
  },
  {
   "cell_type": "code",
   "execution_count": 130,
   "metadata": {},
   "outputs": [
    {
     "name": "stdout",
     "output_type": "stream",
     "text": [
      "Length of list: 6\n"
     ]
    }
   ],
   "source": [
    "# Size of an object\n",
    "print(\"Length of list:\", len(mylist))"
   ]
  },
  {
   "cell_type": "code",
   "execution_count": 131,
   "metadata": {},
   "outputs": [
    {
     "name": "stdout",
     "output_type": "stream",
     "text": [
      "Countdown: 5\n",
      "Countdown: 4\n",
      "Countdown: 3\n",
      "Countdown: 2\n",
      "Countdown: 1\n"
     ]
    }
   ],
   "source": [
    "# Loops - While loop\n",
    "count = 5\n",
    "while count > 0:\n",
    "    print(\"Countdown:\", count)\n",
    "    count -= 1\n"
   ]
  },
  {
   "cell_type": "code",
   "execution_count": 132,
   "metadata": {},
   "outputs": [
    {
     "name": "stdout",
     "output_type": "stream",
     "text": [
      "sum of first 10 natural numers ; 55\n"
     ]
    }
   ],
   "source": [
    "# Additional Example: Sum of first n natural numbers\n",
    "n = 10\n",
    "sum = 0\n",
    "i = 1\n",
    "while i <= n:\n",
    "    sum += i\n",
    "    i += 1\n",
    "print(\"sum of first 10 natural numers ;\", sum)"
   ]
  },
  {
   "cell_type": "code",
   "execution_count": 133,
   "metadata": {},
   "outputs": [
    {
     "name": "stdout",
     "output_type": "stream",
     "text": [
      "Loop iteration: 0\n",
      "Loop iteration: 1\n",
      "Loop iteration: 2\n",
      "Loop iteration: 3\n",
      "Loop iteration: 4\n",
      "List Element: 10\n",
      "List Element: 8\n",
      "List Element: 2\n",
      "List Element: 4\n",
      "List Element: 5\n",
      "List Element: 7\n"
     ]
    }
   ],
   "source": [
    "\n",
    "# For Loop\n",
    "for i in range(5):\n",
    "    print(\"Loop iteration:\", i)\n",
    "\n",
    "# Additional Example: Iterating over a list\n",
    "for num in mylist:\n",
    "    print(\"List Element:\", num)"
   ]
  },
  {
   "cell_type": "code",
   "execution_count": 134,
   "metadata": {},
   "outputs": [
    {
     "name": "stdout",
     "output_type": "stream",
     "text": [
      "x is less than y\n"
     ]
    }
   ],
   "source": [
    "# Conditionals\n",
    "x = 7\n",
    "y = 10\n",
    "if x < y:\n",
    "    print(\"x is less than y\")\n",
    "elif x == y:\n",
    "    print(\"x is equal to y\")\n",
    "else:\n",
    "    print(\"x is greater than y\")"
   ]
  },
  {
   "cell_type": "code",
   "execution_count": 135,
   "metadata": {},
   "outputs": [],
   "source": [
    "# Additional Example: Even or Odd check\n",
    "def check_even_odd(num):\n",
    "    if num % 2 == 0 :\n",
    "        print(num,\"is even\")\n",
    "    else:\n",
    "        print(num,\"is odd \")"
   ]
  },
  {
   "cell_type": "code",
   "execution_count": 136,
   "metadata": {},
   "outputs": [
    {
     "name": "stdout",
     "output_type": "stream",
     "text": [
      "10 is even\n",
      "7 is odd \n"
     ]
    }
   ],
   "source": [
    "check_even_odd(10)\n",
    "check_even_odd(7)"
   ]
  },
  {
   "cell_type": "code",
   "execution_count": 137,
   "metadata": {},
   "outputs": [
    {
     "name": "stdout",
     "output_type": "stream",
     "text": [
      "factorial of 5: 120\n"
     ]
    }
   ],
   "source": [
    "# Functions\n",
    "def factorial(n):\n",
    "    if n == 0 or n == 1:\n",
    "        return 1\n",
    "    else:\n",
    "        return n * factorial(n-1)\n",
    "print(\"factorial of 5:\",factorial(5))"
   ]
  },
  {
   "cell_type": "code",
   "execution_count": 138,
   "metadata": {},
   "outputs": [
    {
     "name": "stdout",
     "output_type": "stream",
     "text": [
      "First 10 Fibonacci numbers: [0, 1, 1, 2, 3, 5, 8, 13, 21, 34]\n",
      "Random number from 1 to 10: 2\n"
     ]
    }
   ],
   "source": [
    "# Additional Example: Fibonacci Sequence\n",
    "def fibonacci(n):\n",
    "    fib_seq = [0, 1]\n",
    "    for i in range(2, n):\n",
    "        fib_seq.append(fib_seq[-1] + fib_seq[-2])\n",
    "    return fib_seq\n",
    "\n",
    "print(\"First 10 Fibonacci numbers:\", fibonacci(10))\n",
    "\n",
    "# Random Number\n",
    "target_range = range(1, 11)\n",
    "from random import choice\n",
    "print(\"Random number from 1 to 10:\", choice(target_range))"
   ]
  }
 ],
 "metadata": {
  "kernelspec": {
   "display_name": "vamsi",
   "language": "python",
   "name": "python3"
  },
  "language_info": {
   "codemirror_mode": {
    "name": "ipython",
    "version": 3
   },
   "file_extension": ".py",
   "mimetype": "text/x-python",
   "name": "python",
   "nbconvert_exporter": "python",
   "pygments_lexer": "ipython3",
   "version": "3.12.5"
  }
 },
 "nbformat": 4,
 "nbformat_minor": 2
}
